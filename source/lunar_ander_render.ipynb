{
 "cells": [
  {
   "cell_type": "code",
   "execution_count": 1,
   "metadata": {},
   "outputs": [],
   "source": [
    "import gymnasium as gym\n",
    "import torch\n",
    "import keyboard\n",
    "from torch.autograd import Variable"
   ]
  },
  {
   "cell_type": "code",
   "execution_count": 2,
   "metadata": {},
   "outputs": [],
   "source": [
    "#env = gym.envs.make(\"LunarLander-v2\", render_mode='human')\n",
    "#env.reset()\n",
    "#env.render()"
   ]
  },
  {
   "cell_type": "code",
   "execution_count": 3,
   "metadata": {},
   "outputs": [],
   "source": [
    "#sum_reward = 0\n",
    "#is_done = False\n",
    "#is_break = False\n",
    "#num_step = 0\n",
    "#action = 0\n",
    "#while not is_done and not is_break: \n",
    "#\n",
    "#    while True:\n",
    "#        if keyboard.read_key() == \"left\":\n",
    "#            action = 3\n",
    "#            break\n",
    "#        if keyboard.read_key() == \"right\":\n",
    "#            action = 1\n",
    "#            break\n",
    "#        if keyboard.read_key() == \"up\":\n",
    "#            action = 0\n",
    "#            break\n",
    "#        if keyboard.read_key() == \"down\":\n",
    "#            action = 2\n",
    "#            break\n",
    "#\n",
    "#\n",
    "#    state, reward, is_done, is_break, info = env.step(action)\n",
    "#    sum_reward += reward\n",
    "#\n",
    "#print(\"Final reward: \", reward)"
   ]
  },
  {
   "cell_type": "code",
   "execution_count": 4,
   "metadata": {},
   "outputs": [],
   "source": [
    "agent = torch.load('../agents/lunar_lander_v2_dqn.pth')"
   ]
  },
  {
   "cell_type": "code",
   "execution_count": 8,
   "metadata": {},
   "outputs": [
    {
     "name": "stdout",
     "output_type": "stream",
     "text": [
      "Final reward:  -366.9560102121565\n"
     ]
    }
   ],
   "source": [
    "env = gym.envs.make(\"LunarLander-v2\", render_mode='human')\n",
    "env.reset()\n",
    "env.render()\n",
    "\n",
    "sum_reward = 0\n",
    "is_done = False\n",
    "is_break = False\n",
    "num_step = 0\n",
    "action = 0\n",
    "state = env.reset()[0]\n",
    "while not is_done and not is_break: \n",
    "    q_values = agent(torch.Tensor(state))\n",
    "    action = torch.argmax(q_values).item()\n",
    "    state, reward, is_done, is_break, info = env.step(action)\n",
    "    sum_reward += reward\n",
    "    #print(state)\n",
    "print(\"Final reward: \", sum_reward)"
   ]
  }
 ],
 "metadata": {
  "kernelspec": {
   "display_name": "rl_conda_311",
   "language": "python",
   "name": "python3"
  },
  "language_info": {
   "codemirror_mode": {
    "name": "ipython",
    "version": 3
   },
   "file_extension": ".py",
   "mimetype": "text/x-python",
   "name": "python",
   "nbconvert_exporter": "python",
   "pygments_lexer": "ipython3",
   "version": "3.11.8"
  }
 },
 "nbformat": 4,
 "nbformat_minor": 2
}
