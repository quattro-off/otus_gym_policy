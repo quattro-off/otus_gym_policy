{
 "cells": [
  {
   "cell_type": "code",
   "execution_count": 1,
   "metadata": {},
   "outputs": [],
   "source": [
    "from PIL import Image\n",
    "import gymnasium as gym\n",
    "import warnings\n",
    "warnings.filterwarnings('ignore')\n",
    "import torch"
   ]
  },
  {
   "cell_type": "code",
   "execution_count": 2,
   "metadata": {},
   "outputs": [],
   "source": [
    "env = gym.make('CartPole-v1', render_mode='human')\n",
    "state = env.reset()\n",
    "env.render()"
   ]
  },
  {
   "cell_type": "code",
   "execution_count": 3,
   "metadata": {},
   "outputs": [],
   "source": [
    "w = torch.tensor([[-0.7805,  0.9204],\n",
    "        [-1.7232,  3.3317],\n",
    "        [-3.8153,  4.5815],\n",
    "        [-7.9563,  8.9472]])"
   ]
  },
  {
   "cell_type": "code",
   "execution_count": 5,
   "metadata": {},
   "outputs": [
    {
     "name": "stdout",
     "output_type": "stream",
     "text": [
      "Final :  500.0\n"
     ]
    }
   ],
   "source": [
    "state = env.reset()[0]\n",
    "reward_sum = 0\n",
    "is_done = False\n",
    "is_break = False\n",
    "num_step = 0\n",
    "while not is_done and not is_break:\n",
    "    state = torch.from_numpy(state).float()\n",
    "    action = torch.argmax(torch.matmul(state, w))\n",
    "    state, reward, is_done, is_break, info = env.step(action.item())\n",
    "    reward_sum += reward\n",
    "\n",
    "print('Final : ', reward_sum)"
   ]
  }
 ],
 "metadata": {
  "kernelspec": {
   "display_name": "rl_conda_39",
   "language": "python",
   "name": "python3"
  },
  "language_info": {
   "codemirror_mode": {
    "name": "ipython",
    "version": 3
   },
   "file_extension": ".py",
   "mimetype": "text/x-python",
   "name": "python",
   "nbconvert_exporter": "python",
   "pygments_lexer": "ipython3",
   "version": "3.11.8"
  }
 },
 "nbformat": 4,
 "nbformat_minor": 2
}
