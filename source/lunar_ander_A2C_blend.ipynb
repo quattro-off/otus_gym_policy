{
 "cells": [
  {
   "cell_type": "code",
   "execution_count": 35,
   "metadata": {},
   "outputs": [],
   "source": [
    "import gymnasium as gym\n",
    "import torch\n",
    "import torch.nn as nn\n",
    "from torch.nn import functional as F\n",
    "\n",
    "from tqdm import tqdm\n",
    "import numpy as np\n",
    "\n",
    "import matplotlib.pyplot as plt\n",
    "\n",
    "DEVICE = torch.device(\"cuda\" if torch.cuda.is_available() else \"cpu\")"
   ]
  },
  {
   "cell_type": "code",
   "execution_count": 36,
   "metadata": {},
   "outputs": [
    {
     "data": {
      "text/plain": [
       "device(type='cuda')"
      ]
     },
     "execution_count": 36,
     "metadata": {},
     "output_type": "execute_result"
    }
   ],
   "source": [
    "DEVICE"
   ]
  },
  {
   "cell_type": "markdown",
   "metadata": {},
   "source": [
    "1. Модель Исполнитель и Критик на общем слое"
   ]
  },
  {
   "cell_type": "code",
   "execution_count": 37,
   "metadata": {},
   "outputs": [],
   "source": [
    "class ActorCriticModel(nn.Module):\n",
    "    # слои модели   \n",
    "    def __init__(self, n_input, n_output, n_hidden):\n",
    "        super(ActorCriticModel, self).__init__()\n",
    "        self.hidden = nn.Linear(n_input, n_hidden)\n",
    "        self.actor_action = nn.Linear(n_hidden, n_output)\n",
    "        self.critic_value = nn.Linear(n_hidden, 1)\n",
    "\n",
    "    # способ обучения модели\n",
    "    def forward(self, s):\n",
    "        s = self.hidden(s)\n",
    "        s = F.relu(s)\n",
    "        actions = self.actor_action(s)\n",
    "        values = self.critic_value(s)\n",
    "        return actions, values    "
   ]
  },
  {
   "cell_type": "markdown",
   "metadata": {},
   "source": [
    "3. Функция политики выбора действия"
   ]
  },
  {
   "cell_type": "code",
   "execution_count": 38,
   "metadata": {},
   "outputs": [],
   "source": [
    "# Получить у модели Исполнителя действие максимальной вероятности без обучния\n",
    "def policy(agent, state):\n",
    "    with torch.no_grad():\n",
    "        state = torch.tensor(state, device=DEVICE)\n",
    "        actions, _ = agent(state)\n",
    "        probs = F.softmax(actions, dim=-1)\n",
    "        a = torch.multinomial(probs, num_samples=1)\n",
    "        return a.tolist()[0]"
   ]
  },
  {
   "cell_type": "markdown",
   "metadata": {},
   "source": [
    "4. Функция обучения модели"
   ]
  },
  {
   "cell_type": "code",
   "execution_count": 39,
   "metadata": {},
   "outputs": [],
   "source": [
    "def a2c_learning(env, agent, optimizer, scheduler, n_episodes, total_reward_episode, gamma=0.9):\n",
    "\n",
    "\n",
    "\n",
    "    # для каждой эпохи\n",
    "    for n in tqdm(range(n_episodes)):\n",
    "\n",
    "        # сбросить среду\n",
    "        state,_ = env.reset()\n",
    "        # создать создать списки стартового состояния, действий и наград за действия для каждого шага\n",
    "        states = []\n",
    "        actions = []\n",
    "        rewards = []\n",
    "\n",
    "        is_step = True\n",
    "        # запуск среды\n",
    "        while is_step:\n",
    "            # получить действие от Испольнителя (без обученния)\n",
    "            action = policy(agent, state)\n",
    "            # запустить среду с этим действием и получить ее результирующее состояние\n",
    "            next_state, reward, is_done, is_break, _ = env.step(action)\n",
    "            # сохранить в списки стартового состояния, действие и награду за действие\n",
    "            states.append(state)\n",
    "            actions.append(action)\n",
    "            rewards.append(reward)\n",
    "\n",
    "            state = next_state\n",
    "            is_step = not is_done and not is_break\n",
    "\n",
    "        states = torch.tensor(states, dtype=torch.float, requires_grad=True, device=DEVICE)\n",
    "        actions = torch.tensor(actions, dtype=torch.int64, device=DEVICE)\n",
    "\n",
    "        # из списка наград за отдельное действие получить список сумм нагдад за все действия до текущего в списке\n",
    "        # список Полных наград для кажного состояния среды\n",
    "        cum_rewards = []\n",
    "        Gt = 0\n",
    "        for reward in rewards[::-1]:\n",
    "            Gt += gamma * reward\n",
    "            cum_rewards.append(Gt)\n",
    "        cum_rewards = torch.tensor(cum_rewards[::-1], dtype=torch.float, requires_grad=True, device=DEVICE)\n",
    "\n",
    "        # Обучение модели \n",
    "        # обучить модель на списке стартового состояния\n",
    "        q_values, values = agent(states)\n",
    "        values = values.squeeze(dim=1)\n",
    "\n",
    "        # получение ценности состояний из оценок Критика и списка полных вознаграждений (без обучения)\n",
    "        advantages = cum_rewards - values\n",
    "\n",
    "        # обнулить градиенты\n",
    "        optimizer.zero_grad()\n",
    "        # считаем лосс из оценок Критика () и списка полных вознаграждений\n",
    "        vf_loss = F.mse_loss(values, cum_rewards, reduction=\"none\")\n",
    "        # считаем лосс из оценок Исполнителя (действия) и списка осуществленных действий (логарифм вероятностей изменения состояний)\n",
    "        log_probs = -F.cross_entropy(q_values, actions, reduction=\"none\")\n",
    "        # считаем сумму произведений отрицательных логорифмов потери на ценность состояний\n",
    "        pi_loss = -log_probs * advantages\n",
    "        # считаем сумму общих потерь\n",
    "        loss = vf_loss.sum() + pi_loss.sum()\n",
    "        # делаем шаг лосс в обратном направлении\n",
    "        loss.backward()\n",
    "        # делаем шаг оптимизатора\n",
    "        optimizer.step()\n",
    "\n",
    "        total_reward_episode[n] = sum(rewards)\n",
    "\n",
    "        if total_reward_episode[n] > 40:\n",
    "            print(n, total_reward_episode[n])\n",
    "            scheduler.step()\n",
    "\n"
   ]
  },
  {
   "cell_type": "markdown",
   "metadata": {},
   "source": [
    "5. Среда обучения "
   ]
  },
  {
   "cell_type": "code",
   "execution_count": 40,
   "metadata": {},
   "outputs": [],
   "source": [
    "env = gym.make('LunarLander-v2')"
   ]
  },
  {
   "cell_type": "markdown",
   "metadata": {},
   "source": [
    "6. Создание моделей с заданными параметрами"
   ]
  },
  {
   "cell_type": "code",
   "execution_count": 41,
   "metadata": {},
   "outputs": [],
   "source": [
    "# параемры моделей\n",
    "# количество входящих парамеров\n",
    "n_state = env.observation_space.shape[0]\n",
    "# количество выходящих парамеров исполинтельной сети\n",
    "n_action = env.action_space.n\n",
    "# количество скрытых нейронов\n",
    "n_hidden = 128\n",
    "# скорость обучения\n",
    "LR = 0.0001\n",
    "\n",
    "\n",
    "# 1. Задать модель - nn.Module\n",
    "agent = ActorCriticModel(n_state, n_action, n_hidden).to(DEVICE)\n",
    "\n",
    "# 2. Задать оптимизатор - torch.optim.NAME_OF_OPTIM\n",
    "optimizer = torch.optim.Adam(agent.parameters(), lr=LR)\n",
    "\n",
    "# 3. Задать функцию скорости обучения - torch.optim.lr_scheduler\n",
    "scheduler = torch.optim.lr_scheduler.StepLR(optimizer, step_size=10, gamma=0.9)\n"
   ]
  },
  {
   "cell_type": "markdown",
   "metadata": {},
   "source": [
    "7. Запуск обучения"
   ]
  },
  {
   "cell_type": "code",
   "execution_count": 42,
   "metadata": {},
   "outputs": [
    {
     "name": "stderr",
     "output_type": "stream",
     "text": [
      " 27%|██▋       | 400/1500 [00:36<03:09,  5.80it/s]"
     ]
    },
    {
     "name": "stdout",
     "output_type": "stream",
     "text": [
      "397 64.03879655350013\n"
     ]
    },
    {
     "name": "stderr",
     "output_type": "stream",
     "text": [
      " 54%|█████▎    | 805/1500 [01:11<01:00, 11.48it/s]"
     ]
    },
    {
     "name": "stdout",
     "output_type": "stream",
     "text": [
      "803 44.81132799662592\n"
     ]
    },
    {
     "name": "stderr",
     "output_type": "stream",
     "text": [
      " 69%|██████▊   | 1029/1500 [01:29<00:40, 11.56it/s]"
     ]
    },
    {
     "name": "stdout",
     "output_type": "stream",
     "text": [
      "1026 46.714968038190364\n"
     ]
    },
    {
     "name": "stderr",
     "output_type": "stream",
     "text": [
      " 74%|███████▍  | 1107/1500 [01:36<01:01,  6.35it/s]"
     ]
    },
    {
     "name": "stdout",
     "output_type": "stream",
     "text": [
      "1103 55.1957559578909\n"
     ]
    },
    {
     "name": "stderr",
     "output_type": "stream",
     "text": [
      "100%|██████████| 1500/1500 [02:09<00:00, 11.54it/s]\n"
     ]
    }
   ],
   "source": [
    "# общее количество эпох\n",
    "n_episodes = 1500\n",
    "# коэффициент обесценивания \n",
    "gamma = 0.99\n",
    "# общая награда в каждом эпизоде\n",
    "total_reward_episode = np.zeros(n_episodes)\n",
    "\n",
    "# запуск функции обучения\n",
    "a2c_learning(env, agent, optimizer, scheduler, n_episodes, total_reward_episode, gamma)"
   ]
  },
  {
   "cell_type": "markdown",
   "metadata": {},
   "source": [
    "8. Результаты"
   ]
  },
  {
   "cell_type": "code",
   "execution_count": 44,
   "metadata": {},
   "outputs": [
    {
     "data": {
      "image/png": "[encoded data removed]",
      "text/plain": [
       "<Figure size 640x480 with 1 Axes>"
      ]
     },
     "metadata": {},
     "output_type": "display_data"
    }
   ],
   "source": [
    "plt.plot(total_reward_episode)\n",
    "plt.title('Зависимость вознаграждения в эпизоде от времени')\n",
    "plt.xlabel('Эпизод')\n",
    "plt.ylabel('Полное вознаграждение')\n",
    "plt.show()"
   ]
  }
 ],
 "metadata": {
  "kernelspec": {
   "display_name": "rl_conda_311",
   "language": "python",
   "name": "python3"
  },
  "language_info": {
   "codemirror_mode": {
    "name": "ipython",
    "version": 3
   },
   "file_extension": ".py",
   "mimetype": "text/x-python",
   "name": "python",
   "nbconvert_exporter": "python",
   "pygments_lexer": "ipython3",
   "version": "3.11.8"
  }
 },
 "nbformat": 4,
 "nbformat_minor": 2
}
