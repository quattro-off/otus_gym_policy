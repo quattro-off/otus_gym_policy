{
 "cells": [
  {
   "cell_type": "code",
   "execution_count": 1,
   "metadata": {},
   "outputs": [],
   "source": [
    "import gymnasium as gym\n",
    "import keyboard"
   ]
  },
  {
   "cell_type": "code",
   "execution_count": 2,
   "metadata": {},
   "outputs": [],
   "source": [
    "env = gym.make('Taxi-v3', render_mode='human')\n",
    "state = env.reset()\n",
    "env.render()"
   ]
  },
  {
   "cell_type": "code",
   "execution_count": 4,
   "metadata": {},
   "outputs": [
    {
     "name": "stdout",
     "output_type": "stream",
     "text": [
      "Final reward:  20\n"
     ]
    }
   ],
   "source": [
    "sum_reward = 0\n",
    "is_done = False\n",
    "is_break = False\n",
    "num_step = 0\n",
    "action = 0\n",
    "while not is_done and not is_break: \n",
    "\n",
    "    while True:\n",
    "        if keyboard.read_key() == \"left\":\n",
    "            action = 3\n",
    "            break\n",
    "        if keyboard.read_key() == \"right\":\n",
    "            action = 2\n",
    "            break\n",
    "        if keyboard.read_key() == \"up\":\n",
    "            action = 1\n",
    "            break\n",
    "        if keyboard.read_key() == \"down\":\n",
    "            action = 0\n",
    "            break\n",
    "        if keyboard.read_key() == \"enter\":\n",
    "            action = 5\n",
    "            break\n",
    "        if keyboard.read_key() == \"space\":\n",
    "            action = 4\n",
    "            break\n",
    "\n",
    "    state, reward, is_done, is_break, info = env.step(action)\n",
    "    sum_reward += reward\n",
    "\n",
    "print(\"Final reward: \", reward)"
   ]
  }
 ],
 "metadata": {
  "kernelspec": {
   "display_name": "rl_conda_310",
   "language": "python",
   "name": "python3"
  },
  "language_info": {
   "codemirror_mode": {
    "name": "ipython",
    "version": 3
   },
   "file_extension": ".py",
   "mimetype": "text/x-python",
   "name": "python",
   "nbconvert_exporter": "python",
   "pygments_lexer": "ipython3",
   "version": "3.10.14"
  }
 },
 "nbformat": 4,
 "nbformat_minor": 2
}
