{
 "cells": [
  {
   "cell_type": "code",
   "execution_count": 10,
   "metadata": {},
   "outputs": [],
   "source": [
    "import gymnasium as gym\n",
    "import torch\n",
    "from torch.autograd import Variable\n",
    "import random\n",
    "from tqdm import tqdm\n",
    "import matplotlib.pyplot as plt\n",
    "from collections import deque\n",
    "import copy"
   ]
  },
  {
   "cell_type": "code",
   "execution_count": 11,
   "metadata": {},
   "outputs": [],
   "source": [
    "class DQN():\n",
    "    def __init__(self, n_state, n_action, n_hidden=50, lr=0.05):\n",
    "        self.criterion = torch.nn.MSELoss()\n",
    "        self.model = torch.nn.Sequential(\n",
    "        torch.nn.Linear(n_state, n_hidden),\n",
    "        torch.nn.ReLU(),\n",
    "        torch.nn.Linear(n_hidden, n_action)\n",
    "        )\n",
    "        self.optimizer = torch.optim.Adam(self.model.parameters(), lr)\n",
    "        self.model_target = copy.deepcopy(self.model)\n",
    "\n",
    "    def update(self, s, y):\n",
    "        # s: состояние\n",
    "        # y: целевое значение\n",
    "        y_pred = self.model(torch.Tensor(s))\n",
    "        loss = self.criterion(y_pred, Variable(torch.Tensor(y)))\n",
    "        self.optimizer.zero_grad()\n",
    "        loss.backward()\n",
    "        self.optimizer.step()\n",
    "\n",
    "    def predict(self, s):\n",
    "        #      s: входное состояние\n",
    "        # return: значения Q для всех действий\n",
    "        with torch.no_grad():\n",
    "            return self.model(torch.Tensor(s))\n",
    "        \n",
    "    def target_predict(self, s):\n",
    "        \"\"\"\n",
    "        Вычисляет значения Q-функции состояния для всех действий с помощью целевой сети\n",
    "        @param s: входное состояние\n",
    "        @return: целевые ценности состояния для всех действий\n",
    "        \"\"\"\n",
    "        with torch.no_grad():\n",
    "            return self.model_target(torch.Tensor(s))\n",
    "        \n",
    "\n",
    "    def copy_target(self):\n",
    "        self.model_target.load_state_dict(self.model.state_dict())\n",
    "\n",
    "    def replay(self, memory, replay_size, gamma):\n",
    "        \"\"\"\n",
    "        Воспроизведение опыта\n",
    "        @param memory: буфер воспроизведения опыта\n",
    "        @param replay_size: сколько примеров использовать при каждом\n",
    "        обновлении модели\n",
    "        @param gamma: коэффициент обесценивания\n",
    "        \"\"\"\n",
    "        if len(memory) >= replay_size:\n",
    "            replay_data = random.sample(memory, replay_size)\n",
    "            states = []\n",
    "            td_targets = []\n",
    "            for state, action, next_state, reward, is_done in replay_data:\n",
    "                states.append(state)\n",
    "                q_values = self.predict(state).tolist()\n",
    "                if is_done:\n",
    "                    q_values[action] = reward\n",
    "                else:\n",
    "                    q_values_next = self.target_predict(next_state)\n",
    "                    q_values[action] = reward + gamma * torch.max(q_values_next).item()\n",
    "                td_targets.append(q_values)\n",
    "        \n",
    "            self.update(states, td_targets)"
   ]
  },
  {
   "cell_type": "code",
   "execution_count": 12,
   "metadata": {},
   "outputs": [],
   "source": [
    "def gen_epsilon_greedy_policy(estimator, epsilon, n_action):\n",
    "    def policy_function(state):\n",
    "        if random.random() < epsilon:\n",
    "            return random.randint(0, n_action - 1)\n",
    "        else:\n",
    "            q_values = estimator.predict(state)\n",
    "        return torch.argmax(q_values).item()\n",
    "    return policy_function"
   ]
  },
  {
   "cell_type": "code",
   "execution_count": 13,
   "metadata": {},
   "outputs": [],
   "source": [
    "def q_learning(env, estimator, n_action, n_episode, total_reward_episode, memory, replay_size, target_update = 10, gamma=1.0, epsilon=0.1, epsilon_decay=.99):\n",
    "    \"\"\"\n",
    "    Глубокое Q-обучение с применением DQN\n",
    "    @param env: имя окружающей среды Gym\n",
    "    @param estimator: объект класса Estimator\n",
    "    @param n_episode: количество эпизодов\n",
    "    @param gamma: коэффициент обесценивания\n",
    "    @param epsilon: параметр ε-жадной стратегии\n",
    "    @param epsilon_decay: коэффициент затухания epsilon\n",
    "    \"\"\"\n",
    "    for episode in tqdm(range(n_episode)):\n",
    "\n",
    "        if episode % target_update == 0:\n",
    "            estimator.copy_target()\n",
    "\n",
    "        policy = gen_epsilon_greedy_policy(estimator, epsilon, n_action)\n",
    "        state = env.reset()[0]\n",
    "        is_done = False\n",
    "        is_break = False\n",
    "        while not is_done and not is_break:\n",
    "            action = policy(state)\n",
    "            next_state, reward, is_done, is_break, _ = env.step(action)\n",
    "            total_reward_episode[episode] += reward\n",
    "            \n",
    "            memory.append((state, action, next_state, reward, is_done))\n",
    "            if is_done or is_break:\n",
    "                break\n",
    "            \n",
    "            estimator.replay(memory, replay_size, gamma)\n",
    "            state = next_state\n",
    "        \n",
    "        #print('Эпизод: {}, полное вознаграждение: {}, epsilon:{}'.format(episode,total_reward_episode[episode], epsilon))\n",
    "        epsilon = max(epsilon * epsilon_decay, 0.01)"
   ]
  },
  {
   "cell_type": "code",
   "execution_count": 14,
   "metadata": {},
   "outputs": [
    {
     "name": "stderr",
     "output_type": "stream",
     "text": [
      "  0%|          | 0/600 [00:00<?, ?it/s]"
     ]
    },
    {
     "name": "stderr",
     "output_type": "stream",
     "text": [
      "100%|██████████| 600/600 [04:20<00:00,  2.30it/s]\n"
     ]
    },
    {
     "name": "stdout",
     "output_type": "stream",
     "text": [
      "30 0.001 20 30 159.405\n"
     ]
    },
    {
     "name": "stderr",
     "output_type": "stream",
     "text": [
      "100%|██████████| 600/600 [04:31<00:00,  2.21it/s]\n"
     ]
    },
    {
     "name": "stdout",
     "output_type": "stream",
     "text": [
      "30 0.001 20 35 180.725\n"
     ]
    },
    {
     "name": "stderr",
     "output_type": "stream",
     "text": [
      "100%|██████████| 600/600 [04:42<00:00,  2.13it/s]\n"
     ]
    },
    {
     "name": "stdout",
     "output_type": "stream",
     "text": [
      "30 0.001 25 30 152.765\n"
     ]
    },
    {
     "name": "stderr",
     "output_type": "stream",
     "text": [
      "100%|██████████| 600/600 [05:59<00:00,  1.67it/s]\n"
     ]
    },
    {
     "name": "stdout",
     "output_type": "stream",
     "text": [
      "30 0.001 25 35 157.45\n"
     ]
    },
    {
     "name": "stderr",
     "output_type": "stream",
     "text": [
      "100%|██████████| 600/600 [04:50<00:00,  2.06it/s]\n"
     ]
    },
    {
     "name": "stdout",
     "output_type": "stream",
     "text": [
      "30 0.003 20 30 171.325\n"
     ]
    },
    {
     "name": "stderr",
     "output_type": "stream",
     "text": [
      "100%|██████████| 600/600 [04:24<00:00,  2.27it/s]\n"
     ]
    },
    {
     "name": "stdout",
     "output_type": "stream",
     "text": [
      "30 0.003 20 35 170.295\n"
     ]
    },
    {
     "name": "stderr",
     "output_type": "stream",
     "text": [
      "100%|██████████| 600/600 [04:27<00:00,  2.24it/s]\n"
     ]
    },
    {
     "name": "stdout",
     "output_type": "stream",
     "text": [
      "30 0.003 25 30 138.22\n"
     ]
    },
    {
     "name": "stderr",
     "output_type": "stream",
     "text": [
      "100%|██████████| 600/600 [04:13<00:00,  2.37it/s]\n"
     ]
    },
    {
     "name": "stdout",
     "output_type": "stream",
     "text": [
      "30 0.003 25 35 126.205\n"
     ]
    },
    {
     "name": "stderr",
     "output_type": "stream",
     "text": [
      "100%|██████████| 600/600 [04:44<00:00,  2.11it/s]\n"
     ]
    },
    {
     "name": "stdout",
     "output_type": "stream",
     "text": [
      "40 0.001 20 30 178.075\n"
     ]
    },
    {
     "name": "stderr",
     "output_type": "stream",
     "text": [
      "100%|██████████| 600/600 [03:25<00:00,  2.92it/s]\n"
     ]
    },
    {
     "name": "stdout",
     "output_type": "stream",
     "text": [
      "40 0.001 20 35 157.945\n"
     ]
    },
    {
     "name": "stderr",
     "output_type": "stream",
     "text": [
      "100%|██████████| 600/600 [04:39<00:00,  2.15it/s]\n"
     ]
    },
    {
     "name": "stdout",
     "output_type": "stream",
     "text": [
      "40 0.001 25 30 144.055\n"
     ]
    },
    {
     "name": "stderr",
     "output_type": "stream",
     "text": [
      "100%|██████████| 600/600 [05:58<00:00,  1.68it/s]\n"
     ]
    },
    {
     "name": "stdout",
     "output_type": "stream",
     "text": [
      "40 0.001 25 35 192.45\n"
     ]
    },
    {
     "name": "stderr",
     "output_type": "stream",
     "text": [
      "100%|██████████| 600/600 [04:28<00:00,  2.23it/s]\n"
     ]
    },
    {
     "name": "stdout",
     "output_type": "stream",
     "text": [
      "40 0.003 20 30 168.09\n"
     ]
    },
    {
     "name": "stderr",
     "output_type": "stream",
     "text": [
      "100%|██████████| 600/600 [04:11<00:00,  2.38it/s]\n"
     ]
    },
    {
     "name": "stdout",
     "output_type": "stream",
     "text": [
      "40 0.003 20 35 164.63\n"
     ]
    },
    {
     "name": "stderr",
     "output_type": "stream",
     "text": [
      "100%|██████████| 600/600 [05:53<00:00,  1.70it/s]\n"
     ]
    },
    {
     "name": "stdout",
     "output_type": "stream",
     "text": [
      "40 0.003 25 30 169.31\n"
     ]
    },
    {
     "name": "stderr",
     "output_type": "stream",
     "text": [
      "100%|██████████| 600/600 [05:07<00:00,  1.95it/s]"
     ]
    },
    {
     "name": "stdout",
     "output_type": "stream",
     "text": [
      "40 0.003 25 35 153.715\n"
     ]
    },
    {
     "name": "stderr",
     "output_type": "stream",
     "text": [
      "\n"
     ]
    }
   ],
   "source": [
    "env = gym.envs.make(\"CartPole-v0\")\n",
    "\n",
    "n_state = env.observation_space.shape[0]\n",
    "n_action = env.action_space.n\n",
    "\n",
    "memory = deque(maxlen=10000)\n",
    "\n",
    "n_episode = 600\n",
    "last_episode = 200\n",
    "replay_size = 20\n",
    "\n",
    "n_hidden_options = [30, 40]\n",
    "lr_options = [0.001, 0.003]\n",
    "replay_size_options = [20, 25]\n",
    "target_update_options = [30, 35]\n",
    "\n",
    "for n_hidden in n_hidden_options:\n",
    "    for lr in lr_options:\n",
    "        for replay_size in replay_size_options:\n",
    "            for target_update in target_update_options:\n",
    "                file_name = '../agents/cart_pole_v0/dqn_double_{}_{}_{}_{}.pth'.format(n_hidden, lr, replay_size, target_update)\n",
    "\n",
    "                env.reset(seed=1)\n",
    "                random.seed(1)\n",
    "                torch.manual_seed(1)\n",
    "                dqn = DQN(n_state, n_action, n_hidden, lr)\n",
    "                memory = deque(maxlen=10000)\n",
    "                total_reward_episode = [0] * n_episode\n",
    "                q_learning(env, dqn, n_action, n_episode, total_reward_episode, memory, replay_size, target_update, gamma=.9, epsilon=1)\n",
    "                print(n_hidden, lr, replay_size, target_update, sum(total_reward_episode[-last_episode:])/last_episode)\n",
    "                torch.save(dqn, file_name)\n",
    "\n"
   ]
  },
  {
   "cell_type": "code",
   "execution_count": 17,
   "metadata": {},
   "outputs": [
    {
     "data": {
      "image/png": "[encoded data removed]",
      "text/plain": [
       "<Figure size 640x480 with 1 Axes>"
      ]
     },
     "metadata": {},
     "output_type": "display_data"
    }
   ],
   "source": [
    "plt.plot(total_reward_episode)\n",
    "plt.title('Зависимость вознаграждения в эпизоде от времени')\n",
    "plt.xlabel('Эпизод')\n",
    "plt.ylabel('Полное вознаграждение')\n",
    "plt.show()"
   ]
  },
  {
   "cell_type": "code",
   "execution_count": 16,
   "metadata": {},
   "outputs": [],
   "source": [
    "torch.save(dqn, '../agents/cart_pole_v0_ddqn.pth')"
   ]
  }
 ],
 "metadata": {
  "kernelspec": {
   "display_name": "rl_conda_311",
   "language": "python",
   "name": "python3"
  },
  "language_info": {
   "codemirror_mode": {
    "name": "ipython",
    "version": 3
   },
   "file_extension": ".py",
   "mimetype": "text/x-python",
   "name": "python",
   "nbconvert_exporter": "python",
   "pygments_lexer": "ipython3",
   "version": "3.11.8"
  }
 },
 "nbformat": 4,
 "nbformat_minor": 2
}
