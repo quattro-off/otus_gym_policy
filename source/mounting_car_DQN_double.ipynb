{
 "cells": [
  {
   "cell_type": "code",
   "execution_count": 8,
   "metadata": {},
   "outputs": [],
   "source": [
    "import gymnasium as gym\n",
    "import torch\n",
    "from torch.autograd import Variable\n",
    "import random\n",
    "from tqdm import tqdm\n",
    "import matplotlib.pyplot as plt\n",
    "from collections import deque\n",
    "import copy"
   ]
  },
  {
   "cell_type": "code",
   "execution_count": 9,
   "metadata": {},
   "outputs": [],
   "source": [
    "class DQN():\n",
    "    def __init__(self, n_state, n_action, n_hidden=50, lr=0.05):\n",
    "        self.criterion = torch.nn.MSELoss()\n",
    "        self.model = torch.nn.Sequential(\n",
    "        torch.nn.Linear(n_state, n_hidden),\n",
    "        torch.nn.ReLU(),\n",
    "        torch.nn.Linear(n_hidden, n_action)\n",
    "        )\n",
    "        self.optimizer = torch.optim.Adam(self.model.parameters(), lr)\n",
    "        self.model_target = copy.deepcopy(self.model)\n",
    "\n",
    "    def update(self, s, y):\n",
    "        # s: состояние\n",
    "        # y: целевое значение\n",
    "        y_pred = self.model(torch.Tensor(s))\n",
    "        loss = self.criterion(y_pred, Variable(torch.Tensor(y)))\n",
    "        self.optimizer.zero_grad()\n",
    "        loss.backward()\n",
    "        self.optimizer.step()\n",
    "\n",
    "    def predict(self, s):\n",
    "        #      s: входное состояние\n",
    "        # return: значения Q для всех действий\n",
    "        with torch.no_grad():\n",
    "            return self.model(torch.Tensor(s))\n",
    "        \n",
    "    def target_predict(self, s):\n",
    "        \"\"\"\n",
    "        Вычисляет значения Q-функции состояния для всех действий с помощью целевой сети\n",
    "        @param s: входное состояние\n",
    "        @return: целевые ценности состояния для всех действий\n",
    "        \"\"\"\n",
    "        with torch.no_grad():\n",
    "            return self.model_target(torch.Tensor(s))\n",
    "        \n",
    "\n",
    "    def copy_target(self):\n",
    "        self.model_target.load_state_dict(self.model.state_dict())\n",
    "\n",
    "    def replay(self, memory, replay_size, gamma):\n",
    "        \"\"\"\n",
    "        Воспроизведение опыта\n",
    "        @param memory: буфер воспроизведения опыта\n",
    "        @param replay_size: сколько примеров использовать при каждом\n",
    "        обновлении модели\n",
    "        @param gamma: коэффициент обесценивания\n",
    "        \"\"\"\n",
    "        if len(memory) >= replay_size:\n",
    "            replay_data = random.sample(memory, replay_size)\n",
    "            states = []\n",
    "            td_targets = []\n",
    "            for state, action, next_state, reward, is_done in replay_data:\n",
    "                states.append(state)\n",
    "                q_values = self.predict(state).tolist()\n",
    "                if is_done:\n",
    "                    q_values[action] = reward\n",
    "                else:\n",
    "                    q_values_next = self.target_predict(next_state)\n",
    "                    q_values[action] = reward + gamma * torch.max(q_values_next).item()\n",
    "                td_targets.append(q_values)\n",
    "        \n",
    "            self.update(states, td_targets)"
   ]
  },
  {
   "cell_type": "code",
   "execution_count": 10,
   "metadata": {},
   "outputs": [],
   "source": [
    "def gen_epsilon_greedy_policy(estimator, epsilon, n_action):\n",
    "    def policy_function(state):\n",
    "        if random.random() < epsilon:\n",
    "            return random.randint(0, n_action - 1)\n",
    "        else:\n",
    "            q_values = estimator.predict(state)\n",
    "        return torch.argmax(q_values).item()\n",
    "    return policy_function"
   ]
  },
  {
   "cell_type": "code",
   "execution_count": 11,
   "metadata": {},
   "outputs": [],
   "source": [
    "def q_learning(env, estimator, n_action, n_episode, total_reward_episode, memory, replay_size, gamma=1.0, epsilon=0.1, epsilon_decay=.99):\n",
    "    \"\"\"\n",
    "    Глубокое Q-обучение с применением DQN\n",
    "    @param env: имя окружающей среды Gym\n",
    "    @param estimator: объект класса Estimator\n",
    "    @param n_episode: количество эпизодов\n",
    "    @param gamma: коэффициент обесценивания\n",
    "    @param epsilon: параметр ε-жадной стратегии\n",
    "    @param epsilon_decay: коэффициент затухания epsilon\n",
    "    \"\"\"\n",
    "    target_update = 10\n",
    "\n",
    "    for episode in tqdm(range(n_episode)):\n",
    "\n",
    "        if episode % target_update == 0:\n",
    "            estimator.copy_target()\n",
    "\n",
    "        policy = gen_epsilon_greedy_policy(estimator, epsilon, n_action)\n",
    "        state = env.reset()[0]\n",
    "        is_done = False\n",
    "        is_break = False\n",
    "        while not is_done and not is_break:\n",
    "            action = policy(state)\n",
    "            next_state, reward, is_done, is_break, _ = env.step(action)\n",
    "            total_reward_episode[episode] += reward\n",
    "            modified_reward = next_state[0] + 0.5\n",
    "            if next_state[0] >= 0.5:\n",
    "                modified_reward += 100\n",
    "            elif next_state[0] >= 0.25:\n",
    "                modified_reward += 20\n",
    "            elif next_state[0] >= 0.1:\n",
    "                modified_reward += 10\n",
    "            elif next_state[0] >= 0:\n",
    "                modified_reward += 5\n",
    "            \n",
    "            memory.append((state, action, next_state, modified_reward, is_done))\n",
    "            if is_done or is_break:\n",
    "                break\n",
    "            \n",
    "            estimator.replay(memory, replay_size, gamma)\n",
    "            state = next_state\n",
    "        \n",
    "        #print('Эпизод: {}, полное вознаграждение: {}, epsilon:{}'.format(episode,total_reward_episode[episode], epsilon))\n",
    "        epsilon = max(epsilon * epsilon_decay, 0.01)\n"
   ]
  },
  {
   "cell_type": "code",
   "execution_count": 12,
   "metadata": {},
   "outputs": [],
   "source": [
    "env = gym.envs.make(\"MountainCar-v0\")\n",
    "n_state = env.observation_space.shape[0]\n",
    "n_action = env.action_space.n\n",
    "n_hidden = 50\n",
    "lr = 0.001\n",
    "memory = deque(maxlen=10000)\n",
    "dqn = DQN(n_state, n_action, n_hidden, lr)"
   ]
  },
  {
   "cell_type": "code",
   "execution_count": 13,
   "metadata": {},
   "outputs": [
    {
     "name": "stderr",
     "output_type": "stream",
     "text": [
      "100%|██████████| 600/600 [07:18<00:00,  1.37it/s]\n"
     ]
    }
   ],
   "source": [
    "n_episode = 600\n",
    "replay_size = 20\n",
    "total_reward_episode = [0] * n_episode\n",
    "q_learning(env, dqn, n_action, n_episode, total_reward_episode, memory, replay_size, gamma=.9, epsilon=.3)"
   ]
  },
  {
   "cell_type": "code",
   "execution_count": 14,
   "metadata": {},
   "outputs": [
    {
     "data": {
      "image/png": "[encoded data removed]",
      "text/plain": [
       "<Figure size 640x480 with 1 Axes>"
      ]
     },
     "metadata": {},
     "output_type": "display_data"
    }
   ],
   "source": [
    "plt.plot(total_reward_episode)\n",
    "plt.title('Зависимость вознаграждения в эпизоде от времени')\n",
    "plt.xlabel('Эпизод')\n",
    "plt.ylabel('Полное вознаграждение')\n",
    "plt.show()"
   ]
  },
  {
   "cell_type": "code",
   "execution_count": 15,
   "metadata": {},
   "outputs": [],
   "source": [
    "torch.save(dqn, '../agents/mountain_car_v0_dqn_double.pth')"
   ]
  }
 ],
 "metadata": {
  "kernelspec": {
   "display_name": "rl_conda_311",
   "language": "python",
   "name": "python3"
  },
  "language_info": {
   "codemirror_mode": {
    "name": "ipython",
    "version": 3
   },
   "file_extension": ".py",
   "mimetype": "text/x-python",
   "name": "python",
   "nbconvert_exporter": "python",
   "pygments_lexer": "ipython3",
   "version": "3.11.8"
  }
 },
 "nbformat": 4,
 "nbformat_minor": 2
}
