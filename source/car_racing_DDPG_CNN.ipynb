{
 "cells": [
  {
   "cell_type": "code",
   "execution_count": 258,
   "metadata": {},
   "outputs": [],
   "source": [
    "import gymnasium as gym\n",
    "import torch\n",
    "import torch.nn as nn\n",
    "from torch.nn import functional as F\n",
    "import torchvision.transforms as T\n",
    "\n",
    "from tqdm import tqdm\n",
    "import numpy as np\n",
    "from collections import namedtuple, deque\n",
    "import random\n",
    "from PIL import Image\n",
    "\n",
    "import matplotlib.pyplot as plt\n",
    "\n",
    "DEVICE = torch.device(\"cuda\" if torch.cuda.is_available() else \"cpu\")"
   ]
  },
  {
   "cell_type": "code",
   "execution_count": 259,
   "metadata": {},
   "outputs": [
    {
     "data": {
      "text/plain": [
       "device(type='cuda')"
      ]
     },
     "execution_count": 259,
     "metadata": {},
     "output_type": "execute_result"
    }
   ],
   "source": [
    "DEVICE"
   ]
  },
  {
   "cell_type": "code",
   "execution_count": 260,
   "metadata": {},
   "outputs": [],
   "source": [
    "Transition = namedtuple('Transition', ('state', 'action', 'next_state', 'reward', 'is_done'))"
   ]
  },
  {
   "cell_type": "markdown",
   "metadata": {},
   "source": [
    "1. Модель Q"
   ]
  },
  {
   "cell_type": "markdown",
   "metadata": {},
   "source": []
  },
  {
   "cell_type": "code",
   "execution_count": 261,
   "metadata": {},
   "outputs": [],
   "source": [
    "#class QNet(nn.Module):\n",
    "#    # слои модели   \n",
    "#    def __init__(self, n_state, n_action, n_hidden):\n",
    "#        super().__init__()\n",
    "#\n",
    "#        self.hidden = nn.Linear(n_state, n_hidden)\n",
    "#        self.output = nn.Linear(n_hidden, n_action)\n",
    "#\n",
    "#    # способ обучения модели\n",
    "#    def forward(self, s, a):\n",
    "#        outs = torch.cat((s, a), dim=-1)\n",
    "#        outs = self.hidden(outs)\n",
    "#        outs = F.relu(outs)\n",
    "#        outs = self.output(outs)\n",
    "#        return outs\n",
    "    \n",
    "\n",
    "class QNet(nn.Module):\n",
    "    def __init__(self, n_action):\n",
    "        super(QNet, self).__init__()\n",
    "        self.conv1 = nn.Conv2d(in_channels=3, out_channels=32, kernel_size=8, stride=4)\n",
    "        self.conv2 = nn.Conv2d(32, 64, 4, stride=2)\n",
    "        self.conv3 = nn.Conv2d(64, 64, 3, stride=1)\n",
    "        self.fc = torch.nn.Linear(7 * 7 * 64 + 1, 512)\n",
    "        self.out = torch.nn.Linear(512, n_action)\n",
    "\n",
    "    def forward(self, s, a):\n",
    "        #outs = torch.cat((s, a), dim=-1) # непонятно как оно должно выглядеть\n",
    "        outs = F.relu(self.conv1(s))\n",
    "        outs = F.relu(self.conv2(outs))\n",
    "        outs = F.relu(self.conv3(outs))\n",
    "        outs = outs.view(outs.size(0), -1)\n",
    "        outs = outs.squeeze(dim=0)\n",
    "        outs = torch.concat((outs, a), dim=0)#наверное сюда\n",
    "        outs = F.relu(self.fc(outs))\n",
    "        output = self.out(outs)\n",
    "        return output"
   ]
  },
  {
   "cell_type": "markdown",
   "metadata": {},
   "source": [
    "2. Модель Политики"
   ]
  },
  {
   "cell_type": "code",
   "execution_count": 262,
   "metadata": {},
   "outputs": [],
   "source": [
    "#class PolicyNet(nn.Module):\n",
    "#    # слои модели\n",
    "#    def __init__(self, n_state, n_hidden):\n",
    "#        super().__init__()\n",
    "#\n",
    "#        self.hidden = nn.Linear(n_state, n_hidden)\n",
    "#        self.output = nn.Linear(n_hidden, 1)\n",
    "#\n",
    "#    # способ обучения модели\n",
    "#    def forward(self, s):\n",
    "#        outs = self.hidden(s)\n",
    "#        outs = F.relu(outs)\n",
    "#        outs = self.output(outs)\n",
    "#        outs = torch.tanh(outs)\n",
    "#        return outs\n",
    "    \n",
    "class PolicyNet(nn.Module):\n",
    "    def __init__(self):\n",
    "        super(PolicyNet, self).__init__()\n",
    "        self.conv1 = nn.Conv2d(in_channels=3, out_channels=32, kernel_size=8, stride=4)\n",
    "        self.conv2 = nn.Conv2d(32, 64, 4, stride=2)\n",
    "        self.conv3 = nn.Conv2d(64, 64, 3, stride=1)\n",
    "        self.fc = torch.nn.Linear(7 * 7 * 64, 256)\n",
    "        self.out = torch.nn.Linear(256, 1)\n",
    "\n",
    "    def forward(self, s):\n",
    "        outs = F.relu(self.conv1(s))\n",
    "        outs = F.relu(self.conv2(outs))\n",
    "        outs = F.relu(self.conv3(outs))\n",
    "        outs = outs.view(outs.size(0), -1)\n",
    "        outs = F.relu(self.fc(outs))\n",
    "        output = self.out(outs)\n",
    "        return output  "
   ]
  },
  {
   "cell_type": "markdown",
   "metadata": {},
   "source": [
    "$ Q_{\\phi}(s, \\mu_{\\theta}(s)) = r_t + \\gamma (1 - d_t) Q_{{\\phi}^{\\prime}}(s_{t+1},\\mu_{\\theta^{\\prime}}(s_{t+1})) $\n",
    "\n",
    "$ \\phi^{\\prime} = \\tau \\phi + (1-\\tau) \\phi^{\\prime} $\n",
    "\n",
    "$ \\theta^{\\prime} = \\tau \\theta + (1-\\tau) \\theta^{\\prime} $\n",
    "\n",
    "В итоге алгоритм имеет вид :\n",
    "\n",
    "- Собираем кортежи $ (s_t, a_t, r_t, s_{t+1}, d_t) $\n",
    "- Оптимизируем $ \\phi $ чтобы свести к минимуму $L$ in (4)\n",
    "- Оптимизируем $ \\theta $ чтобы свести к минимуму $Q_{\\phi}(s, \\mu_{\\theta}(s))$\n",
    "- Обновиляем целевые параметры следующим образом\n",
    "    - $ \\phi^{\\prime} = \\tau \\phi + (1-\\tau) \\phi^{\\prime} $\n",
    "    - $ \\theta^{\\prime} = \\tau \\theta + (1-\\tau) \\theta^{\\prime} $"
   ]
  },
  {
   "cell_type": "code",
   "execution_count": 263,
   "metadata": {},
   "outputs": [],
   "source": [
    "def update_next(q_current_agent, q_next_agent, \n",
    "               mu_current_agent, mu_next_agent,\n",
    "               tau = 0.002):\n",
    "    for q_current, q_next in zip(q_current_agent.parameters(), q_next_agent.parameters()):\n",
    "        q_next.data = tau * q_current.data + (1.0 - tau) * q_next.data\n",
    "    for mu_current, mu_next in zip(mu_current_agent.parameters(), mu_next_agent.parameters()):\n",
    "        mu_next.data = tau * mu_current.data + (1.0 - tau) * mu_next.data"
   ]
  },
  {
   "cell_type": "markdown",
   "metadata": {},
   "source": [
    "3. Функция политики выбора действия"
   ]
  },
  {
   "cell_type": "code",
   "execution_count": 264,
   "metadata": {},
   "outputs": [],
   "source": [
    "# Функция шума\n",
    "class OrnsteinUhlenbeckActionNoise:\n",
    "    def __init__(self, mu, sigma, theta=.15, dt=1e-2, x0=None):\n",
    "        self.theta = theta\n",
    "        self.mu = mu\n",
    "        self.sigma = sigma\n",
    "        self.dt = dt\n",
    "        self.x0 = x0\n",
    "        self.reset()\n",
    "\n",
    "    def __call__(self):\n",
    "        x = self.x_prev + self.theta * (self.mu - self.x_prev) * self.dt + self.sigma * np.sqrt(self.dt) * np.random.normal(size=self.mu.shape)\n",
    "        self.x_prev = x\n",
    "        return x\n",
    "\n",
    "    def reset(self):\n",
    "        self.x_prev = self.x0 if self.x0 is not None else np.zeros_like(self.mu)\n",
    "\n",
    "ou_action_noise = OrnsteinUhlenbeckActionNoise(mu=np.zeros(1), sigma=np.ones(1) * 0.05)\n",
    "\n",
    "# Получить у модели Исполнителя действие максимальной вероятности без обучния\n",
    "def policy(policy_agent, state, n_action):\n",
    "    with torch.no_grad():\n",
    "        state = torch.tensor(state, device=DEVICE)\n",
    "        action_det = policy_agent(state)\n",
    "        action_det = action_det.squeeze(dim=1)\n",
    "        noise = ou_action_noise()\n",
    "        a = action_det.cpu().numpy() + noise\n",
    "        a = np.clip(a, 0., float(n_action) - 0.00001)\n",
    "        a = int(a.item())\n",
    "        \n",
    "        action = [0,0,0]\n",
    "        if a == 0:\n",
    "            action[0] = -1\n",
    "        elif a == 1:\n",
    "            action[0] = 1\n",
    "        elif a == 2:\n",
    "            action[1] = 1\n",
    "        else:\n",
    "            action[2] = 1\n",
    "        return action, a    \n"
   ]
  },
  {
   "cell_type": "code",
   "execution_count": 265,
   "metadata": {},
   "outputs": [],
   "source": [
    "# трансфомация изображения под заданные размер (в квадрат)\n",
    "def transform(image_size):\n",
    "    return T.Compose( [ T.ToPILImage(),\n",
    "                        T.Resize((image_size, image_size), interpolation=Image.BICUBIC),\n",
    "                        T.ToTensor(),\n",
    "                        ])\n",
    "\n",
    "# каналы изображения перемещаем перед размерами\n",
    "def chanal_to_front(obs,image_size):\n",
    "    state = obs.transpose((2, 0, 1))\n",
    "    state = torch.tensor(state, dtype=torch.float, device=DEVICE)\n",
    "    state = transform(image_size)(state).unsqueeze(0)\n",
    "    return state.tolist()"
   ]
  },
  {
   "cell_type": "markdown",
   "metadata": {},
   "source": [
    "4. Функция обучения модели"
   ]
  },
  {
   "cell_type": "code",
   "execution_count": 266,
   "metadata": {},
   "outputs": [],
   "source": [
    "def q_learning(env, \n",
    "               q_current_agent, q_next_agent, \n",
    "               mu_current_agent, mu_next_agent, \n",
    "               opt_q_agent, opt_mu_agent, \n",
    "               memory, batch_size, \n",
    "               n_episodes, n_action, total_reward_episode, gamma):\n",
    "\n",
    "\n",
    "    # размер скрина (скрин квадратный)\n",
    "    image_size = 84 #env.observation_space.shape[0]\n",
    "\n",
    "    # для каждой эпохи\n",
    "    for n in tqdm(range(n_episodes)):\n",
    "\n",
    "        # сбросить среду\n",
    "        state,_ = env.reset()\n",
    "        # подготовка изображения для передачи на свертку\n",
    "        state = chanal_to_front(state, image_size)\n",
    "        \n",
    "        is_done = False\n",
    "        # запуск среды\n",
    "        while not is_done:\n",
    "\n",
    "\n",
    "\n",
    "            # получить действие от Испольнителя (без обученния)\n",
    "            action, a_to_mem  = policy(mu_current_agent, state, n_action)\n",
    "            # запустить среду с этим действием и получить ее результирующее состояние\n",
    "            next_state, reward, is_done, is_break, _ = env.step(action)\n",
    "            \n",
    "            total_reward_episode[n] += reward\n",
    "            is_done = is_done or is_break\n",
    "\n",
    "            # подготовка изображения для передачи на свертку\n",
    "            next_state = chanal_to_front(next_state, image_size)\n",
    "\n",
    "            # сохранить результаты в буфер\n",
    "            m_action = torch.tensor([a_to_mem], device=DEVICE, dtype=torch.float)\n",
    "            m_state = torch.tensor(state, device=DEVICE, dtype=torch.float)\n",
    "            m_reward = torch.tensor([reward], device=DEVICE, dtype=torch.float)\n",
    "            m_next_state = torch.tensor(next_state, device=DEVICE, dtype=torch.float)\n",
    "            m_is_done = torch.tensor([is_done], device=DEVICE, dtype=torch.float)\n",
    "            memory.append(Transition(m_state, m_action, m_reward, m_next_state, m_is_done))\n",
    "            state = next_state\n",
    "\n",
    "            if len(memory) < batch_size:\n",
    "                continue\n",
    "\n",
    "            # получаем случайный батч из буффера\n",
    "            batch = random.sample(memory, batch_size)\n",
    "\n",
    "\n",
    "\n",
    "\n",
    "            q_current_batch = []\n",
    "            q_next_batch = []\n",
    "            for mb_state, mb_action, mb_reward, mb_next_state, mb_is_done in batch:\n",
    "                # Обучение модели Q\n",
    "                # обучить модель на списке стартового состояния  и действия\n",
    "                # Получим текущую Q(s,a)\n",
    "                q_current = q_current_agent(mb_state, mb_action)\n",
    "                q_current_batch.append(q_current.tolist())\n",
    "                # Получим mu от следующего состояния\n",
    "                mu_next = mu_next_agent(mb_state)\n",
    "                mu_next = mu_next.squeeze(dim=1)\n",
    "                # Получим от следующего состояния Q1(s1,mu)\n",
    "                q_next = q_next_agent(mb_next_state, mu_next)\n",
    "                q_next = mb_reward + gamma * (1. - float(mb_is_done)) * q_next\n",
    "                q_next_batch.append(q_next.tolist())\n",
    "\n",
    "\n",
    "                \n",
    "\n",
    "            q_current_batch = torch.tensor(q_current_batch, device=DEVICE, dtype=torch.float, requires_grad=True)\n",
    "            q_next_batch = torch.tensor(q_next_batch, device=DEVICE, dtype=torch.float)\n",
    "            # обнулить градиенты\n",
    "            opt_q_agent.zero_grad()\n",
    "            # считаем лосс \n",
    "            q_loss = F.mse_loss(q_current_batch, q_next_batch, reduction=\"none\")\n",
    "            # считаем сумму потерь\n",
    "            loss = q_loss.sum()\n",
    "            # делаем шаг лосс в обратном направлении\n",
    "            loss.backward()\n",
    "            # делаем шаг оптимизатора\n",
    "            opt_q_agent.step()\n",
    "\n",
    "\n",
    "            for p in q_current_agent.parameters():\n",
    "                p.requires_grad = False\n",
    "\n",
    "            q_current_max_batch = []\n",
    "            for mb_state, mb_action, mb_reward, mb_next_state, mb_is_done in batch:\n",
    "                # Обучение модели Mu\n",
    "                # обучить модель на списке стартового состояния\n",
    "                mu_current = mu_current_agent(mb_state)\n",
    "                mu_current = mu_current.squeeze(dim=1)\n",
    "                q_current_max = q_current_agent(mb_state, mu_current)\n",
    "                q_current_max_batch.append(q_current_max.tolist())\n",
    "\n",
    "            q_current_max_batch = torch.tensor(q_current_max_batch, device=DEVICE, dtype=torch.float, requires_grad=True)\n",
    "            # обнулить градиенты\n",
    "            opt_mu_agent.zero_grad()\n",
    "            # считаем лосс \n",
    "            act_loss = (-q_current_max_batch).sum()\n",
    "            # делаем шаг лосс в обратном направлении\n",
    "            act_loss.backward()\n",
    "            # делаем шаг оптимизатора\n",
    "            opt_mu_agent.step()\n",
    "\n",
    "            for p in q_current_agent.parameters():\n",
    "                p.requires_grad = True\n",
    "\n",
    "            update_next(q_current_agent, q_next_agent,  mu_current_agent, mu_next_agent)\n"
   ]
  },
  {
   "cell_type": "markdown",
   "metadata": {},
   "source": [
    "5. Среда обучения "
   ]
  },
  {
   "cell_type": "code",
   "execution_count": 267,
   "metadata": {},
   "outputs": [],
   "source": [
    "env = gym.make('CarRacing-v2')"
   ]
  },
  {
   "cell_type": "code",
   "execution_count": 268,
   "metadata": {},
   "outputs": [
    {
     "name": "stdout",
     "output_type": "stream",
     "text": [
      "(96, 96, 3)\n",
      "Box([-1.  0.  0.], 1.0, (3,), float32)\n"
     ]
    }
   ],
   "source": [
    "state_shape = env.observation_space.shape\n",
    "n_action = env.action_space\n",
    "print(state_shape)\n",
    "print(n_action)"
   ]
  },
  {
   "cell_type": "markdown",
   "metadata": {},
   "source": [
    "6. Создание моделей с заданными параметрами"
   ]
  },
  {
   "cell_type": "code",
   "execution_count": 269,
   "metadata": {},
   "outputs": [],
   "source": [
    "# параемры моделей\n",
    "# количество входящих парамеров\n",
    "n_state = env.observation_space.shape[0]\n",
    "# количество выходящих парамеров исполинтельной сети\n",
    "n_action = 4\n",
    "# скорость обучения\n",
    "LR = 0.0005\n",
    "\n",
    "# 1. Задать модель - nn.Module\n",
    "q_current_agent = QNet(n_action).to(DEVICE)\n",
    "q_next_agent = QNet(n_action).to(DEVICE)\n",
    "q_next_agent.requires_grad_(False)\n",
    "\n",
    "mu_current_agent = PolicyNet().to(DEVICE)\n",
    "mu_next_agent = PolicyNet().to(DEVICE)\n",
    "mu_next_agent.requires_grad_(False)\n",
    "\n",
    "# 2. Задать оптимизатор - torch.optim.NAME_OF_OPTIM\n",
    "opt_q_agent = torch.optim.Adam(q_current_agent.parameters(), lr=LR)\n",
    "opt_mu_agent = torch.optim.Adam(mu_current_agent.parameters(), lr=LR)\n",
    "\n",
    "# 3. Задать буфер состояний действий наград будущих состояний и конца моделирования (Transition)\n",
    "memory = deque(maxlen=100000)\n"
   ]
  },
  {
   "cell_type": "markdown",
   "metadata": {},
   "source": [
    "7. Запуск обучения"
   ]
  },
  {
   "cell_type": "code",
   "execution_count": 270,
   "metadata": {},
   "outputs": [
    {
     "name": "stderr",
     "output_type": "stream",
     "text": [
      "  0%|          | 0/500 [00:00<?, ?it/s]"
     ]
    }
   ],
   "source": [
    "# общее количество эпох\n",
    "n_episodes = 500\n",
    "# коэффициент обесценивания \n",
    "gamma = 0.99\n",
    "# общая награда в каждом эпизоде\n",
    "total_reward_episode = np.zeros(n_episodes)\n",
    "# размер батча\n",
    "batch_size = 100\n",
    "\n",
    "\n",
    "# запуск функции обучения\n",
    "q_learning(env, \n",
    "           q_current_agent, q_next_agent, \n",
    "           mu_current_agent, mu_next_agent, \n",
    "           opt_q_agent, opt_mu_agent, \n",
    "           memory, batch_size, \n",
    "           n_episodes, n_action, total_reward_episode, gamma)"
   ]
  },
  {
   "cell_type": "markdown",
   "metadata": {},
   "source": [
    "8. Результаты"
   ]
  },
  {
   "cell_type": "code",
   "execution_count": null,
   "metadata": {},
   "outputs": [
    {
     "data": {
      "image/png": "[encoded data removed]",
      "text/plain": [
       "<Figure size 640x480 with 1 Axes>"
      ]
     },
     "metadata": {},
     "output_type": "display_data"
    }
   ],
   "source": [
    "plt.plot(total_reward_episode)\n",
    "plt.title('Зависимость вознаграждения в эпизоде от времени')\n",
    "plt.xlabel('Эпизод')\n",
    "plt.ylabel('Полное вознаграждение')\n",
    "plt.show()"
   ]
  }
 ],
 "metadata": {
  "kernelspec": {
   "display_name": "rl_conda_311",
   "language": "python",
   "name": "python3"
  },
  "language_info": {
   "codemirror_mode": {
    "name": "ipython",
    "version": 3
   },
   "file_extension": ".py",
   "mimetype": "text/x-python",
   "name": "python",
   "nbconvert_exporter": "python",
   "pygments_lexer": "ipython3",
   "version": "3.11.8"
  }
 },
 "nbformat": 4,
 "nbformat_minor": 2
}
