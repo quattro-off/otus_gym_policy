{
 "cells": [
  {
   "cell_type": "code",
   "execution_count": 2,
   "metadata": {},
   "outputs": [],
   "source": [
    "import gymnasium as gym\n",
    "import torch\n",
    "from torch.autograd import Variable"
   ]
  },
  {
   "cell_type": "code",
   "execution_count": 3,
   "metadata": {},
   "outputs": [],
   "source": [
    "class DQN():\n",
    "    def __init__(self, n_state, n_action, n_hidden=50, lr=0.05):\n",
    "        self.criterion = torch.nn.MSELoss()\n",
    "        self.model = torch.nn.Sequential(\n",
    "        torch.nn.Linear(n_state, n_hidden),\n",
    "        torch.nn.ReLU(),\n",
    "        torch.nn.Linear(n_hidden, n_action)\n",
    "        )\n",
    "        self.optimizer = torch.optim.Adam(self.model.parameters(), lr)\n",
    "\n",
    "    def update(self, s, y):\n",
    "        # s: состояние\n",
    "        # y: целевое значение\n",
    "        y_pred = self.model(torch.Tensor(s))\n",
    "        loss = self.criterion(y_pred, Variable(torch.Tensor(y)))\n",
    "        self.optimizer.zero_grad()\n",
    "        loss.backward()\n",
    "        self.optimizer.step()\n",
    "\n",
    "    def predict(self, s):\n",
    "        #      s: входное состояние\n",
    "        # return: значения Q для всех действий\n",
    "        with torch.no_grad():\n",
    "            return self.model(torch.Tensor(s))"
   ]
  },
  {
   "cell_type": "code",
   "execution_count": 4,
   "metadata": {},
   "outputs": [],
   "source": [
    "#dqn = torch.load('mountain_car_v0.pth')\n",
    "dqn = torch.load('mountain_car_v0_dqn_buffer.pth')"
   ]
  },
  {
   "cell_type": "code",
   "execution_count": 6,
   "metadata": {},
   "outputs": [
    {
     "name": "stdout",
     "output_type": "stream",
     "text": [
      "Final reward:  -200.0\n"
     ]
    }
   ],
   "source": [
    "\n",
    "env = gym.make('MountainCar-v0', render_mode='human')\n",
    "env.reset()\n",
    "env.render()\n",
    "\n",
    "sum_reward = 0\n",
    "is_done = False\n",
    "is_break = False\n",
    "num_step = 0\n",
    "action = 0\n",
    "state = env.reset()[0]\n",
    "while not is_done and not is_break: \n",
    "    q_values = dqn.predict(state)\n",
    "    action = torch.argmax(q_values).item()\n",
    "    state, reward, is_done, is_break, info = env.step(action)\n",
    "    sum_reward += reward\n",
    "\n",
    "print(\"Final reward: \", sum_reward)"
   ]
  }
 ],
 "metadata": {
  "kernelspec": {
   "display_name": "rl_conda_311",
   "language": "python",
   "name": "python3"
  },
  "language_info": {
   "codemirror_mode": {
    "name": "ipython",
    "version": 3
   },
   "file_extension": ".py",
   "mimetype": "text/x-python",
   "name": "python",
   "nbconvert_exporter": "python",
   "pygments_lexer": "ipython3",
   "version": "3.11.8"
  }
 },
 "nbformat": 4,
 "nbformat_minor": 2
}
